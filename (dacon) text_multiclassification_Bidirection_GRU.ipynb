{
  "nbformat": 4,
  "nbformat_minor": 0,
  "metadata": {
    "colab": {
      "name": "(깃용)[new_best]best_Bidirection_GRU/LSTM.ipynb",
      "provenance": [],
      "collapsed_sections": [],
      "toc_visible": true
    },
    "kernelspec": {
      "display_name": "Python 3",
      "language": "python",
      "name": "python3"
    },
    "language_info": {
      "codemirror_mode": {
        "name": "ipython",
        "version": 3
      },
      "file_extension": ".py",
      "mimetype": "text/x-python",
      "name": "python",
      "nbconvert_exporter": "python",
      "pygments_lexer": "ipython3",
      "version": "3.8.3"
    },
    "accelerator": "GPU"
  },
  "cells": [
    {
      "cell_type": "code",
      "metadata": {
        "id": "nCxH-zh7Cbhb",
        "colab": {
          "base_uri": "https://localhost:8080/"
        },
        "outputId": "c662ebfc-4fc9-4fe9-a271-28dbfb3f26c2"
      },
      "source": [
        "from google.colab import drive\n",
        "drive.mount('/content/drive')"
      ],
      "execution_count": null,
      "outputs": [
        {
          "output_type": "stream",
          "text": [
            "Mounted at /content/drive\n"
          ],
          "name": "stdout"
        }
      ]
    },
    {
      "cell_type": "markdown",
      "metadata": {
        "id": "ufcGB_euCc7M"
      },
      "source": [
        "# **데이터 살펴보기**"
      ]
    },
    {
      "cell_type": "code",
      "metadata": {
        "id": "CCZvdJEI4C9h",
        "colab": {
          "base_uri": "https://localhost:8080/"
        },
        "outputId": "6ac61f10-f4df-4f8f-89a7-6ee3dbe8d9c4"
      },
      "source": [
        "!pip install nltk"
      ],
      "execution_count": null,
      "outputs": [
        {
          "output_type": "stream",
          "text": [
            "Requirement already satisfied: nltk in /usr/local/lib/python3.6/dist-packages (3.2.5)\n",
            "Requirement already satisfied: six in /usr/local/lib/python3.6/dist-packages (from nltk) (1.15.0)\n"
          ],
          "name": "stdout"
        }
      ]
    },
    {
      "cell_type": "code",
      "metadata": {
        "id": "TmA1Au6CCaC7"
      },
      "source": [
        "import pandas as pd\n",
        "import warnings \n",
        "warnings.filterwarnings(action='ignore')\n",
        "import numpy as np\n",
        "\n",
        "import tensorflow as tf\n",
        "from tensorflow.keras.preprocessing.sequence import pad_sequences\n",
        "from tensorflow.keras.preprocessing.text import Tokenizer\n",
        "import re\n",
        "\n",
        "from keras.callbacks import EarlyStopping, ModelCheckpoint"
      ],
      "execution_count": null,
      "outputs": []
    },
    {
      "cell_type": "code",
      "metadata": {
        "id": "0ZwTCLUOCtUu"
      },
      "source": [
        "#경로 설정\n",
        "import os\n",
        "os.chdir('/content/drive/My Drive/dacon_nlp')"
      ],
      "execution_count": null,
      "outputs": []
    },
    {
      "cell_type": "code",
      "metadata": {
        "id": "OEZtMdB5CaDG"
      },
      "source": [
        "#파일 불러오기\n",
        "train = pd.read_csv('open/train.csv', encoding = 'utf-8')\n",
        "test = pd.read_csv('open/test_x.csv', encoding = 'utf-8')\n",
        "sample_submission = pd.read_csv('open/sample_submission.csv', encoding = 'utf-8')"
      ],
      "execution_count": null,
      "outputs": []
    },
    {
      "cell_type": "code",
      "metadata": {
        "id": "SvX_U2ETC7vA",
        "colab": {
          "base_uri": "https://localhost:8080/",
          "height": 399
        },
        "outputId": "c34a6231-d423-465a-fc5a-d23362be802f"
      },
      "source": [
        "#train 데이터 살펴보기\n",
        "train"
      ],
      "execution_count": null,
      "outputs": [
        {
          "output_type": "execute_result",
          "data": {
            "text/html": [
              "<div>\n",
              "<style scoped>\n",
              "    .dataframe tbody tr th:only-of-type {\n",
              "        vertical-align: middle;\n",
              "    }\n",
              "\n",
              "    .dataframe tbody tr th {\n",
              "        vertical-align: top;\n",
              "    }\n",
              "\n",
              "    .dataframe thead th {\n",
              "        text-align: right;\n",
              "    }\n",
              "</style>\n",
              "<table border=\"1\" class=\"dataframe\">\n",
              "  <thead>\n",
              "    <tr style=\"text-align: right;\">\n",
              "      <th></th>\n",
              "      <th>index</th>\n",
              "      <th>text</th>\n",
              "      <th>author</th>\n",
              "    </tr>\n",
              "  </thead>\n",
              "  <tbody>\n",
              "    <tr>\n",
              "      <th>0</th>\n",
              "      <td>0</td>\n",
              "      <td>He was almost choking. There was so much, so m...</td>\n",
              "      <td>3</td>\n",
              "    </tr>\n",
              "    <tr>\n",
              "      <th>1</th>\n",
              "      <td>1</td>\n",
              "      <td>“Your sister asked for it, I suppose?”</td>\n",
              "      <td>2</td>\n",
              "    </tr>\n",
              "    <tr>\n",
              "      <th>2</th>\n",
              "      <td>2</td>\n",
              "      <td>She was engaged one day as she walked, in per...</td>\n",
              "      <td>1</td>\n",
              "    </tr>\n",
              "    <tr>\n",
              "      <th>3</th>\n",
              "      <td>3</td>\n",
              "      <td>The captain was in the porch, keeping himself ...</td>\n",
              "      <td>4</td>\n",
              "    </tr>\n",
              "    <tr>\n",
              "      <th>4</th>\n",
              "      <td>4</td>\n",
              "      <td>“Have mercy, gentlemen!” odin flung up his han...</td>\n",
              "      <td>3</td>\n",
              "    </tr>\n",
              "    <tr>\n",
              "      <th>...</th>\n",
              "      <td>...</td>\n",
              "      <td>...</td>\n",
              "      <td>...</td>\n",
              "    </tr>\n",
              "    <tr>\n",
              "      <th>54874</th>\n",
              "      <td>54874</td>\n",
              "      <td>“Is that you, Mr. Smith?” odin whispered. “I h...</td>\n",
              "      <td>2</td>\n",
              "    </tr>\n",
              "    <tr>\n",
              "      <th>54875</th>\n",
              "      <td>54875</td>\n",
              "      <td>I told my plan to the captain, and between us ...</td>\n",
              "      <td>4</td>\n",
              "    </tr>\n",
              "    <tr>\n",
              "      <th>54876</th>\n",
              "      <td>54876</td>\n",
              "      <td>\"Your sincere well-wisher, friend, and sister...</td>\n",
              "      <td>1</td>\n",
              "    </tr>\n",
              "    <tr>\n",
              "      <th>54877</th>\n",
              "      <td>54877</td>\n",
              "      <td>“Then you wanted me to lend you money?”</td>\n",
              "      <td>3</td>\n",
              "    </tr>\n",
              "    <tr>\n",
              "      <th>54878</th>\n",
              "      <td>54878</td>\n",
              "      <td>It certainly had not occurred to me before, bu...</td>\n",
              "      <td>0</td>\n",
              "    </tr>\n",
              "  </tbody>\n",
              "</table>\n",
              "<p>54879 rows × 3 columns</p>\n",
              "</div>"
            ],
            "text/plain": [
              "       index                                               text  author\n",
              "0          0  He was almost choking. There was so much, so m...       3\n",
              "1          1             “Your sister asked for it, I suppose?”       2\n",
              "2          2   She was engaged one day as she walked, in per...       1\n",
              "3          3  The captain was in the porch, keeping himself ...       4\n",
              "4          4  “Have mercy, gentlemen!” odin flung up his han...       3\n",
              "...      ...                                                ...     ...\n",
              "54874  54874  “Is that you, Mr. Smith?” odin whispered. “I h...       2\n",
              "54875  54875  I told my plan to the captain, and between us ...       4\n",
              "54876  54876   \"Your sincere well-wisher, friend, and sister...       1\n",
              "54877  54877            “Then you wanted me to lend you money?”       3\n",
              "54878  54878  It certainly had not occurred to me before, bu...       0\n",
              "\n",
              "[54879 rows x 3 columns]"
            ]
          },
          "metadata": {
            "tags": []
          },
          "execution_count": 34
        }
      ]
    },
    {
      "cell_type": "code",
      "metadata": {
        "id": "8MxZsr6yCshr",
        "colab": {
          "base_uri": "https://localhost:8080/",
          "height": 399
        },
        "outputId": "ff73d864-01e0-4d52-82be-40e1861985a9"
      },
      "source": [
        "#test 데이터 살펴보기\n",
        "test"
      ],
      "execution_count": null,
      "outputs": [
        {
          "output_type": "execute_result",
          "data": {
            "text/html": [
              "<div>\n",
              "<style scoped>\n",
              "    .dataframe tbody tr th:only-of-type {\n",
              "        vertical-align: middle;\n",
              "    }\n",
              "\n",
              "    .dataframe tbody tr th {\n",
              "        vertical-align: top;\n",
              "    }\n",
              "\n",
              "    .dataframe thead th {\n",
              "        text-align: right;\n",
              "    }\n",
              "</style>\n",
              "<table border=\"1\" class=\"dataframe\">\n",
              "  <thead>\n",
              "    <tr style=\"text-align: right;\">\n",
              "      <th></th>\n",
              "      <th>index</th>\n",
              "      <th>text</th>\n",
              "    </tr>\n",
              "  </thead>\n",
              "  <tbody>\n",
              "    <tr>\n",
              "      <th>0</th>\n",
              "      <td>0</td>\n",
              "      <td>“Not at all. I think she is one of the most ch...</td>\n",
              "    </tr>\n",
              "    <tr>\n",
              "      <th>1</th>\n",
              "      <td>1</td>\n",
              "      <td>\"No,\" replied he, with sudden consciousness, \"...</td>\n",
              "    </tr>\n",
              "    <tr>\n",
              "      <th>2</th>\n",
              "      <td>2</td>\n",
              "      <td>As the lady had stated her intention of scream...</td>\n",
              "    </tr>\n",
              "    <tr>\n",
              "      <th>3</th>\n",
              "      <td>3</td>\n",
              "      <td>“And then suddenly in the silence I heard a so...</td>\n",
              "    </tr>\n",
              "    <tr>\n",
              "      <th>4</th>\n",
              "      <td>4</td>\n",
              "      <td>His conviction remained unchanged. So far as I...</td>\n",
              "    </tr>\n",
              "    <tr>\n",
              "      <th>...</th>\n",
              "      <td>...</td>\n",
              "      <td>...</td>\n",
              "    </tr>\n",
              "    <tr>\n",
              "      <th>19612</th>\n",
              "      <td>19612</td>\n",
              "      <td>At the end of another day or two, odin growing...</td>\n",
              "    </tr>\n",
              "    <tr>\n",
              "      <th>19613</th>\n",
              "      <td>19613</td>\n",
              "      <td>All afternoon we sat together, mostly in silen...</td>\n",
              "    </tr>\n",
              "    <tr>\n",
              "      <th>19614</th>\n",
              "      <td>19614</td>\n",
              "      <td>odin, having carried his thanks to odin, proc...</td>\n",
              "    </tr>\n",
              "    <tr>\n",
              "      <th>19615</th>\n",
              "      <td>19615</td>\n",
              "      <td>Soon after this, upon odin's leaving the room,...</td>\n",
              "    </tr>\n",
              "    <tr>\n",
              "      <th>19616</th>\n",
              "      <td>19616</td>\n",
              "      <td>And all the worse for the doomed man, that the...</td>\n",
              "    </tr>\n",
              "  </tbody>\n",
              "</table>\n",
              "<p>19617 rows × 2 columns</p>\n",
              "</div>"
            ],
            "text/plain": [
              "       index                                               text\n",
              "0          0  “Not at all. I think she is one of the most ch...\n",
              "1          1  \"No,\" replied he, with sudden consciousness, \"...\n",
              "2          2  As the lady had stated her intention of scream...\n",
              "3          3  “And then suddenly in the silence I heard a so...\n",
              "4          4  His conviction remained unchanged. So far as I...\n",
              "...      ...                                                ...\n",
              "19612  19612  At the end of another day or two, odin growing...\n",
              "19613  19613  All afternoon we sat together, mostly in silen...\n",
              "19614  19614   odin, having carried his thanks to odin, proc...\n",
              "19615  19615  Soon after this, upon odin's leaving the room,...\n",
              "19616  19616  And all the worse for the doomed man, that the...\n",
              "\n",
              "[19617 rows x 2 columns]"
            ]
          },
          "metadata": {
            "tags": []
          },
          "execution_count": 35
        }
      ]
    },
    {
      "cell_type": "code",
      "metadata": {
        "id": "WOpmyyX_77Op",
        "colab": {
          "base_uri": "https://localhost:8080/",
          "height": 399
        },
        "outputId": "7dedcf7b-8fd5-464f-f13d-e661642ffa6a"
      },
      "source": [
        "#sample_submission\n",
        "sample_submission"
      ],
      "execution_count": null,
      "outputs": [
        {
          "output_type": "execute_result",
          "data": {
            "text/html": [
              "<div>\n",
              "<style scoped>\n",
              "    .dataframe tbody tr th:only-of-type {\n",
              "        vertical-align: middle;\n",
              "    }\n",
              "\n",
              "    .dataframe tbody tr th {\n",
              "        vertical-align: top;\n",
              "    }\n",
              "\n",
              "    .dataframe thead th {\n",
              "        text-align: right;\n",
              "    }\n",
              "</style>\n",
              "<table border=\"1\" class=\"dataframe\">\n",
              "  <thead>\n",
              "    <tr style=\"text-align: right;\">\n",
              "      <th></th>\n",
              "      <th>index</th>\n",
              "      <th>0</th>\n",
              "      <th>1</th>\n",
              "      <th>2</th>\n",
              "      <th>3</th>\n",
              "      <th>4</th>\n",
              "    </tr>\n",
              "  </thead>\n",
              "  <tbody>\n",
              "    <tr>\n",
              "      <th>0</th>\n",
              "      <td>0</td>\n",
              "      <td>0</td>\n",
              "      <td>0</td>\n",
              "      <td>0</td>\n",
              "      <td>0</td>\n",
              "      <td>0</td>\n",
              "    </tr>\n",
              "    <tr>\n",
              "      <th>1</th>\n",
              "      <td>1</td>\n",
              "      <td>0</td>\n",
              "      <td>0</td>\n",
              "      <td>0</td>\n",
              "      <td>0</td>\n",
              "      <td>0</td>\n",
              "    </tr>\n",
              "    <tr>\n",
              "      <th>2</th>\n",
              "      <td>2</td>\n",
              "      <td>0</td>\n",
              "      <td>0</td>\n",
              "      <td>0</td>\n",
              "      <td>0</td>\n",
              "      <td>0</td>\n",
              "    </tr>\n",
              "    <tr>\n",
              "      <th>3</th>\n",
              "      <td>3</td>\n",
              "      <td>0</td>\n",
              "      <td>0</td>\n",
              "      <td>0</td>\n",
              "      <td>0</td>\n",
              "      <td>0</td>\n",
              "    </tr>\n",
              "    <tr>\n",
              "      <th>4</th>\n",
              "      <td>4</td>\n",
              "      <td>0</td>\n",
              "      <td>0</td>\n",
              "      <td>0</td>\n",
              "      <td>0</td>\n",
              "      <td>0</td>\n",
              "    </tr>\n",
              "    <tr>\n",
              "      <th>...</th>\n",
              "      <td>...</td>\n",
              "      <td>...</td>\n",
              "      <td>...</td>\n",
              "      <td>...</td>\n",
              "      <td>...</td>\n",
              "      <td>...</td>\n",
              "    </tr>\n",
              "    <tr>\n",
              "      <th>19612</th>\n",
              "      <td>19612</td>\n",
              "      <td>0</td>\n",
              "      <td>0</td>\n",
              "      <td>0</td>\n",
              "      <td>0</td>\n",
              "      <td>0</td>\n",
              "    </tr>\n",
              "    <tr>\n",
              "      <th>19613</th>\n",
              "      <td>19613</td>\n",
              "      <td>0</td>\n",
              "      <td>0</td>\n",
              "      <td>0</td>\n",
              "      <td>0</td>\n",
              "      <td>0</td>\n",
              "    </tr>\n",
              "    <tr>\n",
              "      <th>19614</th>\n",
              "      <td>19614</td>\n",
              "      <td>0</td>\n",
              "      <td>0</td>\n",
              "      <td>0</td>\n",
              "      <td>0</td>\n",
              "      <td>0</td>\n",
              "    </tr>\n",
              "    <tr>\n",
              "      <th>19615</th>\n",
              "      <td>19615</td>\n",
              "      <td>0</td>\n",
              "      <td>0</td>\n",
              "      <td>0</td>\n",
              "      <td>0</td>\n",
              "      <td>0</td>\n",
              "    </tr>\n",
              "    <tr>\n",
              "      <th>19616</th>\n",
              "      <td>19616</td>\n",
              "      <td>0</td>\n",
              "      <td>0</td>\n",
              "      <td>0</td>\n",
              "      <td>0</td>\n",
              "      <td>0</td>\n",
              "    </tr>\n",
              "  </tbody>\n",
              "</table>\n",
              "<p>19617 rows × 6 columns</p>\n",
              "</div>"
            ],
            "text/plain": [
              "       index  0  1  2  3  4\n",
              "0          0  0  0  0  0  0\n",
              "1          1  0  0  0  0  0\n",
              "2          2  0  0  0  0  0\n",
              "3          3  0  0  0  0  0\n",
              "4          4  0  0  0  0  0\n",
              "...      ... .. .. .. .. ..\n",
              "19612  19612  0  0  0  0  0\n",
              "19613  19613  0  0  0  0  0\n",
              "19614  19614  0  0  0  0  0\n",
              "19615  19615  0  0  0  0  0\n",
              "19616  19616  0  0  0  0  0\n",
              "\n",
              "[19617 rows x 6 columns]"
            ]
          },
          "metadata": {
            "tags": []
          },
          "execution_count": 36
        }
      ]
    },
    {
      "cell_type": "markdown",
      "metadata": {
        "id": "PPq0vxJVDS3R"
      },
      "source": [
        "# **전처리**"
      ]
    },
    {
      "cell_type": "markdown",
      "metadata": {
        "id": "Ot2BVbe3LRNV"
      },
      "source": [
        "## 특수문자 제거"
      ]
    },
    {
      "cell_type": "code",
      "metadata": {
        "id": "tMUMcInsD80p"
      },
      "source": [
        "from nltk.stem import PorterStemmer\n",
        "ps = PorterStemmer()\n",
        "\n",
        "def clean_text(text):\n",
        "    text = re.sub(r'[^A-Za-z0-9 ]', '', text)\n",
        "    final_text = []\n",
        "    for i in text.split():\n",
        "        if i.strip().lower() not in stopwords:\n",
        "            final_text.append(ps.stem(i.strip()))\n",
        "    return \" \".join(final_text)"
      ],
      "execution_count": null,
      "outputs": []
    },
    {
      "cell_type": "code",
      "metadata": {
        "id": "fqeBs9CF30YK",
        "colab": {
          "base_uri": "https://localhost:8080/"
        },
        "outputId": "766c7c49-a66d-493e-997f-e0544db22846"
      },
      "source": [
        "import nltk\n",
        "nltk.download('stopwords')\n",
        "print(nltk.corpus.stopwords.words('english'))"
      ],
      "execution_count": null,
      "outputs": [
        {
          "output_type": "stream",
          "text": [
            "[nltk_data] Downloading package stopwords to /root/nltk_data...\n",
            "[nltk_data]   Package stopwords is already up-to-date!\n",
            "['i', 'me', 'my', 'myself', 'we', 'our', 'ours', 'ourselves', 'you', \"you're\", \"you've\", \"you'll\", \"you'd\", 'your', 'yours', 'yourself', 'yourselves', 'he', 'him', 'his', 'himself', 'she', \"she's\", 'her', 'hers', 'herself', 'it', \"it's\", 'its', 'itself', 'they', 'them', 'their', 'theirs', 'themselves', 'what', 'which', 'who', 'whom', 'this', 'that', \"that'll\", 'these', 'those', 'am', 'is', 'are', 'was', 'were', 'be', 'been', 'being', 'have', 'has', 'had', 'having', 'do', 'does', 'did', 'doing', 'a', 'an', 'the', 'and', 'but', 'if', 'or', 'because', 'as', 'until', 'while', 'of', 'at', 'by', 'for', 'with', 'about', 'against', 'between', 'into', 'through', 'during', 'before', 'after', 'above', 'below', 'to', 'from', 'up', 'down', 'in', 'out', 'on', 'off', 'over', 'under', 'again', 'further', 'then', 'once', 'here', 'there', 'when', 'where', 'why', 'how', 'all', 'any', 'both', 'each', 'few', 'more', 'most', 'other', 'some', 'such', 'no', 'nor', 'not', 'only', 'own', 'same', 'so', 'than', 'too', 'very', 's', 't', 'can', 'will', 'just', 'don', \"don't\", 'should', \"should've\", 'now', 'd', 'll', 'm', 'o', 're', 've', 'y', 'ain', 'aren', \"aren't\", 'couldn', \"couldn't\", 'didn', \"didn't\", 'doesn', \"doesn't\", 'hadn', \"hadn't\", 'hasn', \"hasn't\", 'haven', \"haven't\", 'isn', \"isn't\", 'ma', 'mightn', \"mightn't\", 'mustn', \"mustn't\", 'needn', \"needn't\", 'shan', \"shan't\", 'shouldn', \"shouldn't\", 'wasn', \"wasn't\", 'weren', \"weren't\", 'won', \"won't\", 'wouldn', \"wouldn't\"]\n"
          ],
          "name": "stdout"
        }
      ]
    },
    {
      "cell_type": "code",
      "metadata": {
        "id": "o_Sioifb4gq7"
      },
      "source": [
        "stopwords = nltk.corpus.stopwords.words('english')"
      ],
      "execution_count": null,
      "outputs": []
    },
    {
      "cell_type": "code",
      "metadata": {
        "id": "sUgcc07ADiiU"
      },
      "source": [
        "#전처리 적용\n",
        "train['text'] = train['text'].str.lower()\n",
        "test['text'] = test['text'].str.lower()\n",
        "train['text'] = train['text'].apply(clean_text)\n",
        "test['text'] = test['text'].apply(clean_text)"
      ],
      "execution_count": null,
      "outputs": []
    },
    {
      "cell_type": "code",
      "metadata": {
        "id": "DZdWzRkCDovd"
      },
      "source": [
        "# train test 분리\n",
        "X_train = np.array([x for x in train['text']])\n",
        "X_test = np.array([x for x in test['text']])\n",
        "y_train = np.array([x for x in train['author']])"
      ],
      "execution_count": null,
      "outputs": []
    },
    {
      "cell_type": "code",
      "metadata": {
        "id": "iKj4SmSIDtM3",
        "colab": {
          "base_uri": "https://localhost:8080/"
        },
        "outputId": "11e7ad0b-40b3-49ec-bfea-5d0fc534a742"
      },
      "source": [
        "X_train"
      ],
      "execution_count": null,
      "outputs": [
        {
          "output_type": "execute_result",
          "data": {
            "text/plain": [
              "array(['almost choke much much want say strang exclam came lip pole gaze fixedli bundl note hand look odin evid perplex',\n",
              "       'sister ask suppos',\n",
              "       'engag one day walk perus jane last letter dwell passag prove jane written spirit instead surpris mr odin saw look odin meet put away letter immedi forc smile said',\n",
              "       ..., 'sincer wellwish friend sister luci odin', 'want lend money',\n",
              "       'certainli occur said ye like'], dtype='<U1310')"
            ]
          },
          "metadata": {
            "tags": []
          },
          "execution_count": 42
        }
      ]
    },
    {
      "cell_type": "code",
      "metadata": {
        "id": "G80p1O8F8Hu-",
        "colab": {
          "base_uri": "https://localhost:8080/",
          "height": 300
        },
        "outputId": "53a06b15-952d-4b18-e9e0-d0c980b54bbb"
      },
      "source": [
        "from matplotlib import pyplot as plt\n",
        "\n",
        "print('리뷰의 최대 길이 :',max(len(l) for l in X_train))\n",
        "print('리뷰의 평균 길이 :',sum(map(len, X_train))/len(X_train))\n",
        "plt.hist([len(s) for s in X_train], bins=50)\n",
        "plt.show()"
      ],
      "execution_count": null,
      "outputs": [
        {
          "output_type": "stream",
          "text": [
            "리뷰의 최대 길이 : 1310\n",
            "리뷰의 평균 길이 : 117.11332203575138\n"
          ],
          "name": "stdout"
        },
        {
          "output_type": "display_data",
          "data": {
            "image/png": "[encoded data removed]",
            "text/plain": [
              "<Figure size 432x288 with 1 Axes>"
            ]
          },
          "metadata": {
            "tags": [],
            "needs_background": "light"
          }
        }
      ]
    },
    {
      "cell_type": "markdown",
      "metadata": {
        "id": "qMO34CFK9Hc6"
      },
      "source": [
        "## 토큰화"
      ]
    },
    {
      "cell_type": "code",
      "metadata": {
        "id": "Y-vRBiJo8Gxl"
      },
      "source": [
        "# Tokenizer -> fit -> word index -> text to sequence -> pad sequence"
      ],
      "execution_count": null,
      "outputs": []
    },
    {
      "cell_type": "code",
      "metadata": {
        "id": "um6uZK5EDzAm"
      },
      "source": [
        "#파라미터 설정\n",
        "vocab_size = 20000\n",
        "embedding_dim = 64\n",
        "max_length = 200\n",
        "padding_type='post'\n",
        "oov_tok = \"<OOV>\""
      ],
      "execution_count": null,
      "outputs": []
    },
    {
      "cell_type": "code",
      "metadata": {
        "id": "UvR9_VnTD8L9"
      },
      "source": [
        "#tokenizer에 fit (정수인코딩)\n",
        "tokenizer = Tokenizer(num_words = vocab_size, oov_token=oov_tok)\n",
        "tokenizer.fit_on_texts(X_train)\n",
        "word_index = tokenizer.word_index"
      ],
      "execution_count": null,
      "outputs": []
    },
    {
      "cell_type": "code",
      "metadata": {
        "id": "ZQPwyZt0EEHW"
      },
      "source": [
        "#데이터를 sequence로 변환해주고 padding\n",
        "train_sequences = tokenizer.texts_to_sequences(X_train)\n",
        "train_padded = pad_sequences(train_sequences, padding=padding_type, maxlen=max_length)\n",
        "\n",
        "test_sequences = tokenizer.texts_to_sequences(X_test)\n",
        "test_padded = pad_sequences(test_sequences, padding=padding_type, maxlen=max_length)"
      ],
      "execution_count": null,
      "outputs": []
    },
    {
      "cell_type": "markdown",
      "metadata": {
        "id": "Ks1FhSNUHrke"
      },
      "source": [
        "# **모델링**"
      ]
    },
    {
      "cell_type": "markdown",
      "metadata": {
        "id": "V41nSfEd9I6S"
      },
      "source": [
        "## 신경망"
      ]
    },
    {
      "cell_type": "code",
      "metadata": {
        "id": "SQgS6IrmUoxB"
      },
      "source": [
        "es = tf.keras.callbacks.EarlyStopping(monitor='val_loss', patience=4)\n",
        "mc = tf.keras.callbacks.ModelCheckpoint('best_model.h5', monitor='val_loss', mode='min', save_best_only=True)"
      ],
      "execution_count": null,
      "outputs": []
    },
    {
      "cell_type": "code",
      "metadata": {
        "id": "JSXEzVngUpAH",
        "colab": {
          "base_uri": "https://localhost:8080/"
        },
        "outputId": "31763d01-e8be-45a7-e142-3e9ae6c69554"
      },
      "source": [
        "#가벼운 NLP모델 생성\n",
        "lstm_dim = 64\n",
        "model = tf.keras.Sequential([\n",
        "    tf.keras.layers.Embedding(vocab_size, embedding_dim, input_length=max_length),\n",
        "    tf.keras.layers.Bidirectional(tf.keras.layers.GRU(lstm_dim,dropout=0.2, recurrent_dropout=0.2)),\n",
        "    tf.keras.layers.Dense(embedding_dim, activation='relu'),\n",
        "    tf.keras.layers.Dense(5, activation='softmax')\n",
        "])"
      ],
      "execution_count": null,
      "outputs": [
        {
          "output_type": "stream",
          "text": [
            "WARNING:tensorflow:Layer gru_1 will not use cuDNN kernel since it doesn't meet the cuDNN kernel criteria. It will use generic GPU kernel as fallback when running on GPU\n",
            "WARNING:tensorflow:Layer gru_1 will not use cuDNN kernel since it doesn't meet the cuDNN kernel criteria. It will use generic GPU kernel as fallback when running on GPU\n",
            "WARNING:tensorflow:Layer gru_1 will not use cuDNN kernel since it doesn't meet the cuDNN kernel criteria. It will use generic GPU kernel as fallback when running on GPU\n"
          ],
          "name": "stdout"
        }
      ]
    },
    {
      "cell_type": "code",
      "metadata": {
        "id": "meSqvJPrUpAM",
        "colab": {
          "base_uri": "https://localhost:8080/"
        },
        "outputId": "7ebb6832-ffd9-4cbe-9bbc-9ff9001f52fb"
      },
      "source": [
        "# compile model\n",
        "model.compile(loss='sparse_categorical_crossentropy',\n",
        "              optimizer='rmsprop',\n",
        "              metrics=['accuracy'])\n",
        "\n",
        "# model summary\n",
        "print(model.summary())"
      ],
      "execution_count": null,
      "outputs": [
        {
          "output_type": "stream",
          "text": [
            "Model: \"sequential_1\"\n",
            "_________________________________________________________________\n",
            "Layer (type)                 Output Shape              Param #   \n",
            "=================================================================\n",
            "embedding_1 (Embedding)      (None, 200, 64)           1280000   \n",
            "_________________________________________________________________\n",
            "bidirectional_1 (Bidirection (None, 128)               49920     \n",
            "_________________________________________________________________\n",
            "dense_2 (Dense)              (None, 64)                8256      \n",
            "_________________________________________________________________\n",
            "dense_3 (Dense)              (None, 5)                 325       \n",
            "=================================================================\n",
            "Total params: 1,338,501\n",
            "Trainable params: 1,338,501\n",
            "Non-trainable params: 0\n",
            "_________________________________________________________________\n",
            "None\n"
          ],
          "name": "stdout"
        }
      ]
    },
    {
      "cell_type": "code",
      "metadata": {
        "id": "iLdtga_QUozj",
        "colab": {
          "base_uri": "https://localhost:8080/"
        },
        "outputId": "65fb849d-0476-4477-ed6b-8889f86446f1"
      },
      "source": [
        "# fit model\n",
        "num_epochs = 10\n",
        "batch_size = 128\n",
        "history = model.fit(train_padded, y_train,batch_size=batch_size,\n",
        "                    epochs=num_epochs, verbose=2, callbacks=[es,mc],validation_split=0.2)"
      ],
      "execution_count": null,
      "outputs": [
        {
          "output_type": "stream",
          "text": [
            "Epoch 1/10\n",
            "343/343 - 493s - loss: 1.2644 - accuracy: 0.4695 - val_loss: 1.0219 - val_accuracy: 0.5902\n",
            "Epoch 2/10\n",
            "343/343 - 491s - loss: 0.9171 - accuracy: 0.6408 - val_loss: 0.8636 - val_accuracy: 0.6634\n",
            "Epoch 3/10\n",
            "343/343 - 466s - loss: 0.7568 - accuracy: 0.7114 - val_loss: 0.7860 - val_accuracy: 0.6989\n",
            "Epoch 4/10\n",
            "343/343 - 440s - loss: 0.6635 - accuracy: 0.7515 - val_loss: 0.7506 - val_accuracy: 0.7196\n",
            "Epoch 5/10\n",
            "343/343 - 438s - loss: 0.6038 - accuracy: 0.7753 - val_loss: 0.7173 - val_accuracy: 0.7321\n",
            "Epoch 6/10\n",
            "343/343 - 435s - loss: 0.5600 - accuracy: 0.7925 - val_loss: 0.7131 - val_accuracy: 0.7330\n",
            "Epoch 7/10\n",
            "343/343 - 436s - loss: 0.5272 - accuracy: 0.8044 - val_loss: 0.7051 - val_accuracy: 0.7383\n",
            "Epoch 8/10\n",
            "343/343 - 437s - loss: 0.5015 - accuracy: 0.8145 - val_loss: 0.7197 - val_accuracy: 0.7395\n",
            "Epoch 9/10\n",
            "343/343 - 436s - loss: 0.4791 - accuracy: 0.8236 - val_loss: 0.7107 - val_accuracy: 0.7423\n",
            "Epoch 10/10\n",
            "343/343 - 435s - loss: 0.4610 - accuracy: 0.8311 - val_loss: 0.7320 - val_accuracy: 0.7382\n"
          ],
          "name": "stdout"
        }
      ]
    },
    {
      "cell_type": "code",
      "metadata": {
        "id": "H48Fxp139Ftd",
        "colab": {
          "base_uri": "https://localhost:8080/",
          "height": 268
        },
        "outputId": "9787a989-a02a-4295-f958-980360fa4571"
      },
      "source": [
        "import matplotlib.pyplot as plt\n",
        "\n",
        "plt.plot(history.history['loss'],label='loss')\n",
        "plt.plot(history.history['val_loss'], label='val_loss')\n",
        "plt.show()"
      ],
      "execution_count": null,
      "outputs": [
        {
          "output_type": "display_data",
          "data": {
            "image/png": "[encoded data removed]",
            "text/plain": [
              "<Figure size 432x288 with 1 Axes>"
            ]
          },
          "metadata": {
            "tags": [],
            "needs_background": "light"
          }
        }
      ]
    },
    {
      "cell_type": "markdown",
      "metadata": {
        "id": "kvQKnERHV4M1"
      },
      "source": [
        "# submission"
      ]
    },
    {
      "cell_type": "code",
      "metadata": {
        "id": "FVMemDOX9Fvd",
        "colab": {
          "base_uri": "https://localhost:8080/"
        },
        "outputId": "07a58efa-63b2-4add-9ed3-c5b9c4e9cb51"
      },
      "source": [
        "model_best = tf.keras.models.load_model('/content/drive/My Drive/dacon_nlp/best_model.h5')"
      ],
      "execution_count": null,
      "outputs": [
        {
          "output_type": "stream",
          "text": [
            "WARNING:tensorflow:Layer gru_1 will not use cuDNN kernel since it doesn't meet the cuDNN kernel criteria. It will use generic GPU kernel as fallback when running on GPU\n",
            "WARNING:tensorflow:Layer gru_1 will not use cuDNN kernel since it doesn't meet the cuDNN kernel criteria. It will use generic GPU kernel as fallback when running on GPU\n",
            "WARNING:tensorflow:Layer gru_1 will not use cuDNN kernel since it doesn't meet the cuDNN kernel criteria. It will use generic GPU kernel as fallback when running on GPU\n"
          ],
          "name": "stdout"
        }
      ]
    },
    {
      "cell_type": "code",
      "metadata": {
        "id": "3jXKoOWIC6g0",
        "colab": {
          "base_uri": "https://localhost:8080/"
        },
        "outputId": "c6b9af20-83a7-4c35-a57d-03526a26146f"
      },
      "source": [
        "# predict values\n",
        "pred = model_best.predict_proba(test_padded)"
      ],
      "execution_count": null,
      "outputs": [
        {
          "output_type": "stream",
          "text": [
            "WARNING:tensorflow:From <ipython-input-62-813213c97ff3>:2: Sequential.predict_proba (from tensorflow.python.keras.engine.sequential) is deprecated and will be removed after 2021-01-01.\n",
            "Instructions for updating:\n",
            "Please use `model.predict()` instead.\n"
          ],
          "name": "stdout"
        }
      ]
    },
    {
      "cell_type": "code",
      "metadata": {
        "id": "PqM28Q2slf8O",
        "colab": {
          "base_uri": "https://localhost:8080/"
        },
        "outputId": "6fc5a542-510f-4f85-8eeb-398ece9a49ac"
      },
      "source": [
        "pred"
      ],
      "execution_count": null,
      "outputs": [
        {
          "output_type": "execute_result",
          "data": {
            "text/plain": [
              "array([[9.5188236e-03, 7.5101614e-02, 9.0817517e-01, 5.4299529e-03,\n",
              "        1.7744743e-03],\n",
              "       [3.7953842e-01, 3.3196014e-01, 2.7212180e-02, 2.2752538e-02,\n",
              "        2.3853676e-01],\n",
              "       [9.9910372e-01, 5.3893257e-04, 1.3927357e-04, 1.1645339e-05,\n",
              "        2.0638159e-04],\n",
              "       ...,\n",
              "       [5.4350786e-04, 9.9902749e-01, 1.8115254e-04, 2.2486520e-04,\n",
              "        2.2965207e-05],\n",
              "       [3.5297105e-04, 9.9958175e-01, 3.1901298e-05, 2.8505248e-05,\n",
              "        4.8804227e-06],\n",
              "       [9.9904042e-01, 2.7336416e-04, 3.1584845e-04, 4.8912170e-05,\n",
              "        3.2144712e-04]], dtype=float32)"
            ]
          },
          "metadata": {
            "tags": []
          },
          "execution_count": 63
        }
      ]
    },
    {
      "cell_type": "code",
      "metadata": {
        "id": "C6zHHKe6liyW",
        "colab": {
          "base_uri": "https://localhost:8080/",
          "height": 399
        },
        "outputId": "3fed2d06-fe0b-4eb9-a1bf-6bdafc3eb63e"
      },
      "source": [
        "# submission\n",
        "sample_submission[['0','1','2','3','4']] = pred\n",
        "sample_submission"
      ],
      "execution_count": null,
      "outputs": [
        {
          "output_type": "execute_result",
          "data": {
            "text/html": [
              "<div>\n",
              "<style scoped>\n",
              "    .dataframe tbody tr th:only-of-type {\n",
              "        vertical-align: middle;\n",
              "    }\n",
              "\n",
              "    .dataframe tbody tr th {\n",
              "        vertical-align: top;\n",
              "    }\n",
              "\n",
              "    .dataframe thead th {\n",
              "        text-align: right;\n",
              "    }\n",
              "</style>\n",
              "<table border=\"1\" class=\"dataframe\">\n",
              "  <thead>\n",
              "    <tr style=\"text-align: right;\">\n",
              "      <th></th>\n",
              "      <th>index</th>\n",
              "      <th>0</th>\n",
              "      <th>1</th>\n",
              "      <th>2</th>\n",
              "      <th>3</th>\n",
              "      <th>4</th>\n",
              "    </tr>\n",
              "  </thead>\n",
              "  <tbody>\n",
              "    <tr>\n",
              "      <th>0</th>\n",
              "      <td>0</td>\n",
              "      <td>0.009519</td>\n",
              "      <td>0.075102</td>\n",
              "      <td>0.908175</td>\n",
              "      <td>0.005430</td>\n",
              "      <td>0.001774</td>\n",
              "    </tr>\n",
              "    <tr>\n",
              "      <th>1</th>\n",
              "      <td>1</td>\n",
              "      <td>0.379538</td>\n",
              "      <td>0.331960</td>\n",
              "      <td>0.027212</td>\n",
              "      <td>0.022753</td>\n",
              "      <td>0.238537</td>\n",
              "    </tr>\n",
              "    <tr>\n",
              "      <th>2</th>\n",
              "      <td>2</td>\n",
              "      <td>0.999104</td>\n",
              "      <td>0.000539</td>\n",
              "      <td>0.000139</td>\n",
              "      <td>0.000012</td>\n",
              "      <td>0.000206</td>\n",
              "    </tr>\n",
              "    <tr>\n",
              "      <th>3</th>\n",
              "      <td>3</td>\n",
              "      <td>0.000285</td>\n",
              "      <td>0.002022</td>\n",
              "      <td>0.996634</td>\n",
              "      <td>0.000600</td>\n",
              "      <td>0.000459</td>\n",
              "    </tr>\n",
              "    <tr>\n",
              "      <th>4</th>\n",
              "      <td>4</td>\n",
              "      <td>0.487153</td>\n",
              "      <td>0.012692</td>\n",
              "      <td>0.013145</td>\n",
              "      <td>0.262229</td>\n",
              "      <td>0.224781</td>\n",
              "    </tr>\n",
              "    <tr>\n",
              "      <th>...</th>\n",
              "      <td>...</td>\n",
              "      <td>...</td>\n",
              "      <td>...</td>\n",
              "      <td>...</td>\n",
              "      <td>...</td>\n",
              "      <td>...</td>\n",
              "    </tr>\n",
              "    <tr>\n",
              "      <th>19612</th>\n",
              "      <td>19612</td>\n",
              "      <td>0.000159</td>\n",
              "      <td>0.999800</td>\n",
              "      <td>0.000016</td>\n",
              "      <td>0.000023</td>\n",
              "      <td>0.000003</td>\n",
              "    </tr>\n",
              "    <tr>\n",
              "      <th>19613</th>\n",
              "      <td>19613</td>\n",
              "      <td>0.016980</td>\n",
              "      <td>0.000167</td>\n",
              "      <td>0.006451</td>\n",
              "      <td>0.000122</td>\n",
              "      <td>0.976279</td>\n",
              "    </tr>\n",
              "    <tr>\n",
              "      <th>19614</th>\n",
              "      <td>19614</td>\n",
              "      <td>0.000544</td>\n",
              "      <td>0.999027</td>\n",
              "      <td>0.000181</td>\n",
              "      <td>0.000225</td>\n",
              "      <td>0.000023</td>\n",
              "    </tr>\n",
              "    <tr>\n",
              "      <th>19615</th>\n",
              "      <td>19615</td>\n",
              "      <td>0.000353</td>\n",
              "      <td>0.999582</td>\n",
              "      <td>0.000032</td>\n",
              "      <td>0.000029</td>\n",
              "      <td>0.000005</td>\n",
              "    </tr>\n",
              "    <tr>\n",
              "      <th>19616</th>\n",
              "      <td>19616</td>\n",
              "      <td>0.999040</td>\n",
              "      <td>0.000273</td>\n",
              "      <td>0.000316</td>\n",
              "      <td>0.000049</td>\n",
              "      <td>0.000321</td>\n",
              "    </tr>\n",
              "  </tbody>\n",
              "</table>\n",
              "<p>19617 rows × 6 columns</p>\n",
              "</div>"
            ],
            "text/plain": [
              "       index         0         1         2         3         4\n",
              "0          0  0.009519  0.075102  0.908175  0.005430  0.001774\n",
              "1          1  0.379538  0.331960  0.027212  0.022753  0.238537\n",
              "2          2  0.999104  0.000539  0.000139  0.000012  0.000206\n",
              "3          3  0.000285  0.002022  0.996634  0.000600  0.000459\n",
              "4          4  0.487153  0.012692  0.013145  0.262229  0.224781\n",
              "...      ...       ...       ...       ...       ...       ...\n",
              "19612  19612  0.000159  0.999800  0.000016  0.000023  0.000003\n",
              "19613  19613  0.016980  0.000167  0.006451  0.000122  0.976279\n",
              "19614  19614  0.000544  0.999027  0.000181  0.000225  0.000023\n",
              "19615  19615  0.000353  0.999582  0.000032  0.000029  0.000005\n",
              "19616  19616  0.999040  0.000273  0.000316  0.000049  0.000321\n",
              "\n",
              "[19617 rows x 6 columns]"
            ]
          },
          "metadata": {
            "tags": []
          },
          "execution_count": 64
        }
      ]
    },
    {
      "cell_type": "code",
      "metadata": {
        "id": "Xu8Wb207FP-D"
      },
      "source": [
        "sample_submission.to_csv('submission.csv', index = False)"
      ],
      "execution_count": null,
      "outputs": []
    }
  ]
}