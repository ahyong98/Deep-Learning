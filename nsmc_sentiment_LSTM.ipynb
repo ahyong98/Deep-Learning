{
  "nbformat": 4,
  "nbformat_minor": 0,
  "metadata": {
    "colab": {
      "name": "okt_token_LSTM.ipynb",
      "provenance": [],
      "collapsed_sections": []
    },
    "kernelspec": {
      "name": "python3",
      "display_name": "Python 3"
    },
    "accelerator": "GPU"
  },
  "cells": [
    {
      "cell_type": "markdown",
      "metadata": {
        "id": "_MYx-Ifsu3mF"
      },
      "source": [
        "## 환경 설정"
      ]
    },
    {
      "cell_type": "code",
      "metadata": {
        "id": "tlIyZKObuQMY"
      },
      "source": [
        "import zipfile\n",
        "         \n",
        "fantasy_zip = zipfile.ZipFile('/content/drive/My Drive/딥러닝/감성분석/2020-1-deeplearning-final.zip')\n",
        "fantasy_zip.extractall('/content/drive/My Drive/딥러닝/감성분석')\n",
        " \n",
        "fantasy_zip.close()"
      ],
      "execution_count": null,
      "outputs": []
    },
    {
      "cell_type": "code",
      "metadata": {
        "id": "P0sZYfQsu111"
      },
      "source": [
        "import pandas as pd\n",
        "from konlpy.tag import Okt\n",
        "import re\n",
        "from keras.preprocessing.text import Tokenizer\n",
        "from keras.preprocessing.sequence import pad_sequences\n",
        "\n",
        "from sklearn.model_selection import train_test_split\n",
        "\n",
        "from keras.models import Sequential\n",
        "from keras.layers import Dense, Embedding, GRU, LSTM, SpatialDropout1D\n",
        "from keras.callbacks import EarlyStopping"
      ],
      "execution_count": null,
      "outputs": []
    },
    {
      "cell_type": "markdown",
      "metadata": {
        "id": "8RpQ1SM2whmO"
      },
      "source": [
        "## 데이터"
      ]
    },
    {
      "cell_type": "code",
      "metadata": {
        "id": "G4d52jX8ukOn",
        "outputId": "ac66e46a-bdb5-41f6-e604-249becc389fb",
        "colab": {
          "base_uri": "https://localhost:8080/",
          "height": 279
        }
      },
      "source": [
        "train = pd.read_csv('/content/drive/My Drive/딥러닝/감성분석/train.csv')\n",
        "test = pd.read_csv('/content/drive/My Drive/딥러닝/감성분석/test.csv')\n",
        "train.head()"
      ],
      "execution_count": null,
      "outputs": [
        {
          "output_type": "execute_result",
          "data": {
            "text/html": [
              "<div>\n",
              "<style scoped>\n",
              "    .dataframe tbody tr th:only-of-type {\n",
              "        vertical-align: middle;\n",
              "    }\n",
              "\n",
              "    .dataframe tbody tr th {\n",
              "        vertical-align: top;\n",
              "    }\n",
              "\n",
              "    .dataframe thead th {\n",
              "        text-align: right;\n",
              "    }\n",
              "</style>\n",
              "<table border=\"1\" class=\"dataframe\">\n",
              "  <thead>\n",
              "    <tr style=\"text-align: right;\">\n",
              "      <th></th>\n",
              "      <th>id</th>\n",
              "      <th>rating</th>\n",
              "      <th>raw</th>\n",
              "      <th>chr_token</th>\n",
              "      <th>nn_token</th>\n",
              "    </tr>\n",
              "  </thead>\n",
              "  <tbody>\n",
              "    <tr>\n",
              "      <th>0</th>\n",
              "      <td>R024795</td>\n",
              "      <td>1</td>\n",
              "      <td>1982년도에 이런영화가 제작이 됐다는거 자체가 놀라운거라고. 재미없다고 씨부리는것...</td>\n",
              "      <td>1 9 8 2 년 도 에 이 런 영 화 가 제 작 이 됐 다 는 거 자 체 가 놀 ...</td>\n",
              "      <td>년도 영화 제작 거 자체 거 씨 것 엄매 뱃속 정자 난자 전 리를리감 독 전구 에디...</td>\n",
              "    </tr>\n",
              "    <tr>\n",
              "      <th>1</th>\n",
              "      <td>R068332</td>\n",
              "      <td>1</td>\n",
              "      <td>핸드핼드기법을 적절히 써가며 현실과 환상의 대비를 확연하게 보여주는 영화</td>\n",
              "      <td>핸 드 핼 드 기 법 을 적 절 히 써 가 며 현 실 과 환 상 의 대 비 를 확 ...</td>\n",
              "      <td>핸드 핼드 기법 현실 환상 대비 영화</td>\n",
              "    </tr>\n",
              "    <tr>\n",
              "      <th>2</th>\n",
              "      <td>R027236</td>\n",
              "      <td>1</td>\n",
              "      <td>....엑스맨을 깔끔하게 정리를 했다는 자체가 이미 뛰어난 영화라는 것을 증명하고 있다</td>\n",
              "      <td>. . . . 엑 스 맨 을 깔 끔 하 게 정 리 를 했 다 는 자 체 가 이 미 ...</td>\n",
              "      <td>엑스맨 정리 자체 영화 것 증명</td>\n",
              "    </tr>\n",
              "    <tr>\n",
              "      <th>3</th>\n",
              "      <td>R050965</td>\n",
              "      <td>0</td>\n",
              "      <td>뭐 이런 쓰레기 영화가 다있냐 인물관계도 정리안해줘 줄거리도 없어 내용도 ㅉㅉ</td>\n",
              "      <td>뭐 이 런 쓰 레 기 영 화 가 다 있 냐 인 물 관 계 도 정 리 안 해 줘 줄 ...</td>\n",
              "      <td>쓰레기 영화 인물 관계 정리안 줄거리 내용 ㅉ</td>\n",
              "    </tr>\n",
              "    <tr>\n",
              "      <th>4</th>\n",
              "      <td>R016317</td>\n",
              "      <td>0</td>\n",
              "      <td>육식공룡중에서 빌딩보다 더큰공룡이어딧노 ㅋㅋㅋㅋㅋㅋ</td>\n",
              "      <td>육 식 공 룡 중 에 서 빌 딩 보 다 더 큰 공 룡 이 어 딧 노 ㅋ ㅋ ㅋ ㅋ ㅋ ㅋ</td>\n",
              "      <td>육식 공 룡 중 빌딩 공룡 어딧노 ㅋ ㅋ</td>\n",
              "    </tr>\n",
              "  </tbody>\n",
              "</table>\n",
              "</div>"
            ],
            "text/plain": [
              "        id  ...                                           nn_token\n",
              "0  R024795  ...  년도 영화 제작 거 자체 거 씨 것 엄매 뱃속 정자 난자 전 리를리감 독 전구 에디...\n",
              "1  R068332  ...                               핸드 핼드 기법 현실 환상 대비 영화\n",
              "2  R027236  ...                                  엑스맨 정리 자체 영화 것 증명\n",
              "3  R050965  ...                          쓰레기 영화 인물 관계 정리안 줄거리 내용 ㅉ\n",
              "4  R016317  ...                             육식 공 룡 중 빌딩 공룡 어딧노 ㅋ ㅋ\n",
              "\n",
              "[5 rows x 5 columns]"
            ]
          },
          "metadata": {
            "tags": []
          },
          "execution_count": 2
        }
      ]
    },
    {
      "cell_type": "code",
      "metadata": {
        "id": "ApXCujdDvqnb",
        "outputId": "08908935-deda-4f1d-e939-6dcc3bfd894a",
        "colab": {
          "base_uri": "https://localhost:8080/",
          "height": 87
        }
      },
      "source": [
        "train.groupby(['rating'])['id'].size()"
      ],
      "execution_count": null,
      "outputs": [
        {
          "output_type": "execute_result",
          "data": {
            "text/plain": [
              "rating\n",
              "0    27255\n",
              "1    27255\n",
              "Name: id, dtype: int64"
            ]
          },
          "metadata": {
            "tags": []
          },
          "execution_count": 3
        }
      ]
    },
    {
      "cell_type": "markdown",
      "metadata": {
        "id": "vTxzfdS7ANbS"
      },
      "source": [
        "## 전처리"
      ]
    },
    {
      "cell_type": "code",
      "metadata": {
        "id": "Bx_h0ZQ3ALwG",
        "outputId": "3a5c70fe-965b-44f1-97ee-268d09645b68",
        "colab": {
          "base_uri": "https://localhost:8080/",
          "height": 279
        }
      },
      "source": [
        "train['raw'] = train['raw'].str.replace(\"[^ㄱ-ㅎㅏ-ㅣ가-힣 ]\",\"\")\n",
        "test['raw'] = test['raw'].str.replace(\"[^ㄱ-ㅎㅏ-ㅣ가-힣 ]\",\"\")\n",
        "train.head()"
      ],
      "execution_count": null,
      "outputs": [
        {
          "output_type": "execute_result",
          "data": {
            "text/html": [
              "<div>\n",
              "<style scoped>\n",
              "    .dataframe tbody tr th:only-of-type {\n",
              "        vertical-align: middle;\n",
              "    }\n",
              "\n",
              "    .dataframe tbody tr th {\n",
              "        vertical-align: top;\n",
              "    }\n",
              "\n",
              "    .dataframe thead th {\n",
              "        text-align: right;\n",
              "    }\n",
              "</style>\n",
              "<table border=\"1\" class=\"dataframe\">\n",
              "  <thead>\n",
              "    <tr style=\"text-align: right;\">\n",
              "      <th></th>\n",
              "      <th>id</th>\n",
              "      <th>rating</th>\n",
              "      <th>raw</th>\n",
              "      <th>chr_token</th>\n",
              "      <th>nn_token</th>\n",
              "    </tr>\n",
              "  </thead>\n",
              "  <tbody>\n",
              "    <tr>\n",
              "      <th>0</th>\n",
              "      <td>R024795</td>\n",
              "      <td>1</td>\n",
              "      <td>년도에 이런영화가 제작이 됐다는거 자체가 놀라운거라고 재미없다고 씨부리는것들아 니들...</td>\n",
              "      <td>1 9 8 2 년 도 에 이 런 영 화 가 제 작 이 됐 다 는 거 자 체 가 놀 ...</td>\n",
              "      <td>년도 영화 제작 거 자체 거 씨 것 엄매 뱃속 정자 난자 전 리를리감 독 전구 에디...</td>\n",
              "    </tr>\n",
              "    <tr>\n",
              "      <th>1</th>\n",
              "      <td>R068332</td>\n",
              "      <td>1</td>\n",
              "      <td>핸드핼드기법을 적절히 써가며 현실과 환상의 대비를 확연하게 보여주는 영화</td>\n",
              "      <td>핸 드 핼 드 기 법 을 적 절 히 써 가 며 현 실 과 환 상 의 대 비 를 확 ...</td>\n",
              "      <td>핸드 핼드 기법 현실 환상 대비 영화</td>\n",
              "    </tr>\n",
              "    <tr>\n",
              "      <th>2</th>\n",
              "      <td>R027236</td>\n",
              "      <td>1</td>\n",
              "      <td>엑스맨을 깔끔하게 정리를 했다는 자체가 이미 뛰어난 영화라는 것을 증명하고 있다</td>\n",
              "      <td>. . . . 엑 스 맨 을 깔 끔 하 게 정 리 를 했 다 는 자 체 가 이 미 ...</td>\n",
              "      <td>엑스맨 정리 자체 영화 것 증명</td>\n",
              "    </tr>\n",
              "    <tr>\n",
              "      <th>3</th>\n",
              "      <td>R050965</td>\n",
              "      <td>0</td>\n",
              "      <td>뭐 이런 쓰레기 영화가 다있냐 인물관계도 정리안해줘 줄거리도 없어 내용도 ㅉㅉ</td>\n",
              "      <td>뭐 이 런 쓰 레 기 영 화 가 다 있 냐 인 물 관 계 도 정 리 안 해 줘 줄 ...</td>\n",
              "      <td>쓰레기 영화 인물 관계 정리안 줄거리 내용 ㅉ</td>\n",
              "    </tr>\n",
              "    <tr>\n",
              "      <th>4</th>\n",
              "      <td>R016317</td>\n",
              "      <td>0</td>\n",
              "      <td>육식공룡중에서 빌딩보다 더큰공룡이어딧노 ㅋㅋㅋㅋㅋㅋ</td>\n",
              "      <td>육 식 공 룡 중 에 서 빌 딩 보 다 더 큰 공 룡 이 어 딧 노 ㅋ ㅋ ㅋ ㅋ ㅋ ㅋ</td>\n",
              "      <td>육식 공 룡 중 빌딩 공룡 어딧노 ㅋ ㅋ</td>\n",
              "    </tr>\n",
              "  </tbody>\n",
              "</table>\n",
              "</div>"
            ],
            "text/plain": [
              "        id  ...                                           nn_token\n",
              "0  R024795  ...  년도 영화 제작 거 자체 거 씨 것 엄매 뱃속 정자 난자 전 리를리감 독 전구 에디...\n",
              "1  R068332  ...                               핸드 핼드 기법 현실 환상 대비 영화\n",
              "2  R027236  ...                                  엑스맨 정리 자체 영화 것 증명\n",
              "3  R050965  ...                          쓰레기 영화 인물 관계 정리안 줄거리 내용 ㅉ\n",
              "4  R016317  ...                             육식 공 룡 중 빌딩 공룡 어딧노 ㅋ ㅋ\n",
              "\n",
              "[5 rows x 5 columns]"
            ]
          },
          "metadata": {
            "tags": []
          },
          "execution_count": 4
        }
      ]
    },
    {
      "cell_type": "markdown",
      "metadata": {
        "id": "jGILf1wIBcXG"
      },
      "source": [
        "## 토큰화"
      ]
    },
    {
      "cell_type": "code",
      "metadata": {
        "id": "suVZbQAMBuIH"
      },
      "source": [
        "stopwords = ['의','가','이','은','들','는','좀','잘','걍','과','도','를','으로','에','와','한','하다']\n",
        "okt = Okt()"
      ],
      "execution_count": null,
      "outputs": []
    },
    {
      "cell_type": "code",
      "metadata": {
        "id": "2Kgdgf_sBb1B"
      },
      "source": [
        "train_tok = []\n",
        "for sentence in train['raw']:\n",
        "    temp_X = []\n",
        "    temp_X = okt.morphs(sentence, stem=True)\n",
        "    temp_X = [word for word in temp_X if not word in stopwords] # 불용어 제거\n",
        "    train_tok.append(temp_X)\n",
        "\n",
        "test_tok = []\n",
        "for sentence in test['raw']:\n",
        "    temp_X = []\n",
        "    temp_X = okt.morphs(sentence, stem=True)\n",
        "    temp_X = [word for word in temp_X if not word in stopwords] # 불용어 제거\n",
        "    test_tok.append(temp_X)"
      ],
      "execution_count": null,
      "outputs": []
    },
    {
      "cell_type": "code",
      "metadata": {
        "id": "3D1BNkjHI9cs"
      },
      "source": [
        "train_token = []\n",
        "for item in train_tok:\n",
        "  train_token.append(' '.join(item))\n",
        "test_token = []\n",
        "for item in test_tok:\n",
        "  test_token.append(' '.join(item))"
      ],
      "execution_count": null,
      "outputs": []
    },
    {
      "cell_type": "code",
      "metadata": {
        "id": "R-VZoJFIwK25"
      },
      "source": [
        "labels = train['rating'].values\n",
        "\n",
        "# train, test 합쳐서 토큰화 진행\n",
        "texts = list(pd.concat([pd.Series(train_seq), pd.Series(test_seq)]))"
      ],
      "execution_count": null,
      "outputs": []
    },
    {
      "cell_type": "code",
      "metadata": {
        "id": "GItKYkRBIosk"
      },
      "source": [
        "# 토큰화\n",
        "max_words = 10000\n",
        "tokenizer = Tokenizer(num_words=max_words)\n",
        "tokenizer.fit_on_texts(texts)\n",
        "\n",
        "# 정수 인코딩\n",
        "seq = tokenizer.texts_to_sequences(texts)\n",
        "maxlen = max(len(x) for x in seq)\n",
        "\n",
        "word2idx = tokenizer.word_index\n",
        "word2idx[0] = 'PAD'\n",
        "idx2words = {j:i for i,j in word2idx.items()}\n",
        "\n",
        "# padding\n",
        "seq = pad_sequences(seq,maxlen=maxlen)\n",
        "\n",
        "# train, test 분할\n",
        "train_seq = seq[:len(labels)]\n",
        "test_seq = seq[len(labels):]"
      ],
      "execution_count": null,
      "outputs": []
    },
    {
      "cell_type": "markdown",
      "metadata": {
        "id": "8n5IRm6VymzG"
      },
      "source": [
        "## 모델링"
      ]
    },
    {
      "cell_type": "code",
      "metadata": {
        "id": "JRt3yIaixwRf"
      },
      "source": [
        "x_train, x_test, y_train, y_test = train_test_split(train_seq, labels, test_size=0.2, stratify = labels)"
      ],
      "execution_count": null,
      "outputs": []
    },
    {
      "cell_type": "code",
      "metadata": {
        "id": "0Q2us2r8ymIS",
        "outputId": "109ad2c4-8c18-4667-86e3-57a3aa764887",
        "colab": {
          "base_uri": "https://localhost:8080/",
          "height": 263
        }
      },
      "source": [
        "model = Sequential()\n",
        "model.add(Embedding(max_words+1, 128,input_length = maxlen))\n",
        "model.add(LSTM(128, dropout=0.2, recurrent_dropout=0.2))\n",
        "model.add(Dense(1,activation='sigmoid'))\n",
        "model.summary()\n",
        "\n",
        "model.compile(optimizer='rmsprop', loss='binary_crossentropy', metrics=['acc'])"
      ],
      "execution_count": null,
      "outputs": [
        {
          "output_type": "stream",
          "text": [
            "Model: \"sequential_1\"\n",
            "_________________________________________________________________\n",
            "Layer (type)                 Output Shape              Param #   \n",
            "=================================================================\n",
            "embedding_1 (Embedding)      (None, 69, 128)           1280128   \n",
            "_________________________________________________________________\n",
            "lstm_1 (LSTM)                (None, 128)               131584    \n",
            "_________________________________________________________________\n",
            "dense_1 (Dense)              (None, 1)                 129       \n",
            "=================================================================\n",
            "Total params: 1,411,841\n",
            "Trainable params: 1,411,841\n",
            "Non-trainable params: 0\n",
            "_________________________________________________________________\n"
          ],
          "name": "stdout"
        }
      ]
    },
    {
      "cell_type": "code",
      "metadata": {
        "id": "j1PsHrnNymK3",
        "outputId": "49e19e41-f201-4b46-ceb3-883f4deb9356",
        "colab": {
          "base_uri": "https://localhost:8080/",
          "height": 371
        }
      },
      "source": [
        "history = model.fit(x_train, y_train, epochs=15, batch_size=64, validation_split=0.2, callbacks=[EarlyStopping(monitor='val_loss',patience = 4)])"
      ],
      "execution_count": null,
      "outputs": [
        {
          "output_type": "stream",
          "text": [
            "/usr/local/lib/python3.6/dist-packages/tensorflow/python/framework/indexed_slices.py:434: UserWarning: Converting sparse IndexedSlices to a dense Tensor of unknown shape. This may consume a large amount of memory.\n",
            "  \"Converting sparse IndexedSlices to a dense Tensor of unknown shape. \"\n"
          ],
          "name": "stderr"
        },
        {
          "output_type": "stream",
          "text": [
            "Train on 34886 samples, validate on 8722 samples\n",
            "Epoch 1/15\n",
            "34886/34886 [==============================] - 154s 4ms/step - loss: 0.4208 - acc: 0.8069 - val_loss: 0.3677 - val_acc: 0.8411\n",
            "Epoch 2/15\n",
            "34886/34886 [==============================] - 152s 4ms/step - loss: 0.3258 - acc: 0.8603 - val_loss: 0.3553 - val_acc: 0.8440\n",
            "Epoch 3/15\n",
            "34886/34886 [==============================] - 150s 4ms/step - loss: 0.3024 - acc: 0.8731 - val_loss: 0.3568 - val_acc: 0.8460\n",
            "Epoch 4/15\n",
            "34886/34886 [==============================] - 150s 4ms/step - loss: 0.2868 - acc: 0.8798 - val_loss: 0.3458 - val_acc: 0.8496\n",
            "Epoch 5/15\n",
            "34886/34886 [==============================] - 151s 4ms/step - loss: 0.2709 - acc: 0.8880 - val_loss: 0.3528 - val_acc: 0.8489\n",
            "Epoch 6/15\n",
            "34886/34886 [==============================] - 149s 4ms/step - loss: 0.2547 - acc: 0.8957 - val_loss: 0.3590 - val_acc: 0.8430\n",
            "Epoch 7/15\n",
            "34886/34886 [==============================] - 149s 4ms/step - loss: 0.2389 - acc: 0.9042 - val_loss: 0.3549 - val_acc: 0.8446\n",
            "Epoch 8/15\n",
            "34886/34886 [==============================] - 148s 4ms/step - loss: 0.2220 - acc: 0.9113 - val_loss: 0.3490 - val_acc: 0.8482\n"
          ],
          "name": "stdout"
        }
      ]
    },
    {
      "cell_type": "code",
      "metadata": {
        "id": "jdZUysmvymOE",
        "outputId": "f3d3b0db-b30f-4048-e344-3130395008ea",
        "colab": {
          "base_uri": "https://localhost:8080/",
          "height": 545
        }
      },
      "source": [
        "import matplotlib.pyplot as plt\n",
        "\n",
        "acc = history.history['acc']\n",
        "val_acc = history.history['val_acc']\n",
        "loss = history.history['loss']\n",
        "val_loss = history.history['val_loss']\n",
        "\n",
        "epochs = range(len(acc))\n",
        "\n",
        "plt.plot(epochs, acc, 'bo', label='Training acc')\n",
        "plt.plot(epochs, val_acc, 'b', label='Validation acc')\n",
        "plt.title('Training and validation accuracy')\n",
        "plt.legend()\n",
        "\n",
        "plt.figure()\n",
        "\n",
        "plt.plot(epochs, loss, 'bo', label='Training loss')\n",
        "plt.plot(epochs, val_loss, 'b', label='Validation loss')\n",
        "plt.title('Training and validation loss')\n",
        "plt.legend()\n",
        "\n",
        "plt.show()"
      ],
      "execution_count": null,
      "outputs": [
        {
          "output_type": "display_data",
          "data": {
            "image/png": "[encoded data removed]",
            "text/plain": [
              "<Figure size 432x288 with 1 Axes>"
            ]
          },
          "metadata": {
            "tags": [],
            "needs_background": "light"
          }
        },
        {
          "output_type": "display_data",
          "data": {
            "image/png": "[encoded data removed]",
            "text/plain": [
              "<Figure size 432x288 with 1 Axes>"
            ]
          },
          "metadata": {
            "tags": [],
            "needs_background": "light"
          }
        }
      ]
    },
    {
      "cell_type": "markdown",
      "metadata": {
        "id": "CF_bmqY7zxQR"
      },
      "source": [
        "## Submission"
      ]
    },
    {
      "cell_type": "code",
      "metadata": {
        "id": "6EjQSKUWxwYv",
        "outputId": "aef1e88f-ca3c-464e-b53b-a17a4fb359b5",
        "colab": {
          "base_uri": "https://localhost:8080/",
          "height": 34
        }
      },
      "source": [
        "pred = model.predict_classes(x_test)\n",
        "pred = pred.flatten()\n",
        "(pred == y_test).mean()"
      ],
      "execution_count": null,
      "outputs": [
        {
          "output_type": "execute_result",
          "data": {
            "text/plain": [
              "0.852779306549257"
            ]
          },
          "metadata": {
            "tags": []
          },
          "execution_count": 37
        }
      ]
    },
    {
      "cell_type": "code",
      "metadata": {
        "id": "hYofZvj96F4K"
      },
      "source": [
        "pred = model.predict_classes(test_seq)\n",
        "pred = pred.flatten()\n",
        "submit = pd.DataFrame({'id':test.id, 'pred':pred})\n",
        "submit.to_csv('token_LSTM.csv',index=False)"
      ],
      "execution_count": null,
      "outputs": []
    }
  ]
}